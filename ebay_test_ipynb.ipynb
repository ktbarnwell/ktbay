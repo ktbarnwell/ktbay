{
 "cells": [
  {
   "cell_type": "code",
   "execution_count": 6,
   "metadata": {
    "collapsed": false
   },
   "outputs": [
    {
     "name": "stderr",
     "output_type": "stream",
     "text": [
      "Usage: __main__.py [options]\n",
      "\n",
      "__main__.py: error: no such option: -f\n"
     ]
    },
    {
     "ename": "SystemExit",
     "evalue": "2",
     "output_type": "error",
     "traceback": [
      "An exception has occurred, use %tb to see the full traceback.\n",
      "\u001b[0;31mSystemExit\u001b[0m\u001b[0;31m:\u001b[0m 2\n"
     ]
    }
   ],
   "source": [
    "# -*- coding: utf-8 -*-\n",
    "'''\n",
    "© 2012-2013 eBay Software Foundation\n",
    "Authored by: Tim Keefer\n",
    "Licensed under CDDL 1.0\n",
    "'''\n",
    "\n",
    "import os\n",
    "import sys\n",
    "from optparse import OptionParser\n",
    "\n",
    "#sys.path.insert(0, '%s/../' % os.path.dirname(__file__))\n",
    "\n",
    "from dumper import dump\n",
    "\n",
    "import ebaysdk\n",
    "from ebaysdk.finding import Connection as finding\n",
    "from ebaysdk.exception import ConnectionError\n",
    "\n",
    "def init_options():\n",
    "    usage = \"usage: %prog [options]\"\n",
    "    parser = OptionParser(usage=usage)\n",
    "\n",
    "    parser.add_option(\"-d\", \"--debug\",\n",
    "                      action=\"store_true\", dest=\"debug\", default=False,\n",
    "                      help=\"Enabled debugging [default: %default]\")\n",
    "    parser.add_option(\"-y\", \"--yaml\",\n",
    "                      dest=\"yaml\", default='ebay.yaml',\n",
    "                      help=\"Specifies the name of the YAML defaults file. [default: %default]\")\n",
    "    parser.add_option(\"-a\", \"--appid\",\n",
    "                      dest=\"appid\", default=None,\n",
    "                      help=\"Specifies the eBay application id to use.\")\n",
    "\n",
    "    (opts, args) = parser.parse_args()\n",
    "    return opts, args\n",
    "\n",
    "\n",
    "def run(opts):\n",
    "\n",
    "    try:\n",
    "        api = finding(debug=opts.debug, appid=opts.appid,\n",
    "                      config_file=opts.yaml, warnings=True)\n",
    "\n",
    "        api_request = {\n",
    "            #'keywords': u'niño',\n",
    "            'keywords': u'tark shimmer',\n",
    "            'itemFilter': [\n",
    "                {'name': 'Condition',\n",
    "                 'value': 'Used'},\n",
    "                {'name': 'LocatedIn',\n",
    "                 'value': 'WorldWide'},\n",
    "            ],\n",
    "      \n",
    "        }\n",
    "\n",
    "        response = api.execute('findItemsAdvanced', api_request)\n",
    "\n",
    "# dump(api)\n",
    "    except ConnectionError as e:\n",
    "        print(e)\n",
    "        print(e.response.dict())\n",
    "\n",
    "    dictstr = \"%s\" % api.response_dict()\n",
    "    #print(dictstr[_response_content])\n",
    "    print(api.response_content)\n",
    "    #print(\"Response dictionary: %s...\" % dictstr[:250])\n",
    "\n",
    "\n",
    "def run_unicode(opts):\n",
    "\n",
    "    try:\n",
    "        api = finding(debug=opts.debug, appid=opts.appid,\n",
    "                      config_file=opts.yaml, warnings=True)\n",
    "\n",
    "        api_request = {\n",
    "            'keywords': u'Kościół',\n",
    "        }\n",
    "\n",
    "        response = api.execute('findItemsAdvanced', api_request)\n",
    "        for i in response.reply.searchResult.item:\n",
    "            if i.title.find(u'ś') >= 0:\n",
    "                print(\"Matched: %s\" % i.title)\n",
    "                break\n",
    "\n",
    "        dump(api)\n",
    "\n",
    "    except ConnectionError as e:\n",
    "        print(e)\n",
    "        print(e.response.dict())\n",
    "\n",
    "\n",
    "\n",
    "def run2(opts):\n",
    "    try:\n",
    "        api = finding(debug=opts.debug, appid=opts.appid, config_file=opts.yaml)\n",
    "        \n",
    "        response = api.execute('findItemsByProduct', \n",
    "          '<productId type=\"ReferenceID\">53039031</productId><paginationInput><entriesPerPage>1</entriesPerPage></paginationInput>')\n",
    "        \n",
    "        dump(api)\n",
    "\n",
    "    except ConnectionError as e:\n",
    "        print(e)\n",
    "        print(e.response.dict())\n",
    "\n",
    "def run_motors(opts):\n",
    "    api = finding(siteid='EBAY-MOTOR', debug=opts.debug, appid=opts.appid, config_file=opts.yaml,\n",
    "                  warnings=True)\n",
    "\n",
    "    api.execute('findItemsAdvanced', {\n",
    "        'keywords': 'tesla',\n",
    "    })\n",
    "\n",
    "    if api.error():\n",
    "        raise Exception(api.error())\n",
    "\n",
    "    if api.response_content():\n",
    "        print(\"Call Success: %s in length\" % len(api.response_content()))\n",
    "\n",
    "    print(\"Response code: %s\" % api.response_code())\n",
    "    print(\"Response DOM: %s\" % api.response_dom())\n",
    "\n",
    "    dictstr = \"%s\" % api.response_dict()\n",
    "    print(\"Response dictionary: %s...\" % dictstr[:250])\n",
    "    \n",
    "# if __name__ == \"__main__\":\n",
    "#     print(\"Finding samples for SDK version %s\" % ebaysdk.get_version())\n",
    "#     (opts, args) = init_options()\n",
    "(opts, args) = init_options()\n",
    "run(opts)\n",
    "#     #run2(opts)\n",
    "#     #run_motors(opts)\n",
    "#     #run_unicode(opts)"
   ]
  },
  {
   "cell_type": "code",
   "execution_count": 4,
   "metadata": {
    "collapsed": false
   },
   "outputs": [
    {
     "ename": "NameError",
     "evalue": "name 'opts' is not defined",
     "output_type": "error",
     "traceback": [
      "\u001b[0;31m---------------------------------------------------------------------------\u001b[0m",
      "\u001b[0;31mNameError\u001b[0m                                 Traceback (most recent call last)",
      "\u001b[0;32m<ipython-input-4-c68d801b6d7d>\u001b[0m in \u001b[0;36m<module>\u001b[0;34m()\u001b[0m\n\u001b[0;32m----> 1\u001b[0;31m \u001b[0mrun\u001b[0m\u001b[0;34m(\u001b[0m\u001b[0mopts\u001b[0m\u001b[0;34m)\u001b[0m\u001b[0;34m\u001b[0m\u001b[0m\n\u001b[0m",
      "\u001b[0;31mNameError\u001b[0m: name 'opts' is not defined"
     ]
    }
   ],
   "source": [
    "run(opts)"
   ]
  },
  {
   "cell_type": "code",
   "execution_count": null,
   "metadata": {
    "collapsed": true
   },
   "outputs": [],
   "source": []
  }
 ],
 "metadata": {
  "kernelspec": {
   "display_name": "Python 2",
   "language": "python",
   "name": "python2"
  },
  "language_info": {
   "codemirror_mode": {
    "name": "ipython",
    "version": 2
   },
   "file_extension": ".py",
   "mimetype": "text/x-python",
   "name": "python",
   "nbconvert_exporter": "python",
   "pygments_lexer": "ipython2",
   "version": "2.7.12"
  }
 },
 "nbformat": 4,
 "nbformat_minor": 1
}
